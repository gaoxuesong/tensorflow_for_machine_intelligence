{
 "cells": [
  {
   "cell_type": "code",
   "execution_count": 10,
   "metadata": {
    "collapsed": true
   },
   "outputs": [],
   "source": [
    "import tensorflow as tf\n",
    "import os"
   ]
  },
  {
   "cell_type": "code",
   "execution_count": 22,
   "metadata": {
    "collapsed": false,
    "scrolled": false
   },
   "outputs": [
    {
     "name": "stdout",
     "output_type": "stream",
     "text": [
      "loss:  [7608772.5]\n",
      "loss:  [5341925.5]\n",
      "loss:  [5339993.0]\n",
      "loss:  [5338747.0]\n",
      "loss:  [5337538.0]\n",
      "loss:  [5336334.0]\n",
      "loss:  [5335129.5]\n",
      "loss:  [5333926.5]\n",
      "loss:  [5332724.0]\n",
      "loss:  [5331523.5]\n",
      "[[ 320.64968872]]\n",
      "[[ 267.78182983]]\n"
     ]
    }
   ],
   "source": [
    "W = tf.Variable(tf.zeros([2, 1]), name='weights')\n",
    "b = tf.Variable(0., name='bias')\n",
    "\n",
    "# define the training loop operations\n",
    "def inference(X):\n",
    "    # computer inference model over data X and return the result\n",
    "    return tf.matmul(X, W) + b\n",
    "\n",
    "\n",
    "def loss(X, Y):\n",
    "    # computer loss over training data X and expected outputs Y\n",
    "    Y_predicted = inference(X)\n",
    "    return tf.reduce_sum(tf.squared_difference(Y, Y_predicted))\n",
    "\n",
    "\n",
    "def inputs():\n",
    "    # read/generate input training data X and expected outputs Y\n",
    "    # http://people.sc.fsu.edu/~jburkardt/datasets/regression/x09.txt\n",
    "    weight_age = [[84, 46], [73, 20], [65, 52], [70, 30], [76, 57],\n",
    "                  [69, 25], [63, 28], [72, 36], [79, 57], [75, 44],\n",
    "                  [27, 24], [89, 31], [65, 52], [57, 23], [59, 60], \n",
    "                  [69, 48], [60, 34], [79, 51], [75, 50], [82, 34], \n",
    "                  [59, 46], [67, 23], [85, 37], [55, 40], [63, 30]]\n",
    "    blood_fat_content = [354, 190, 405, 263, 451, 302, 288, 385, 402, \n",
    "                         365, 209, 290, 346, 254, 395, 434, 220, 374, \n",
    "                         308, 220, 311, 181, 274, 303, 244]\n",
    "    \n",
    "    return tf.to_float(weight_age), tf.to_float(blood_fat_content)\n",
    "\n",
    "\n",
    "def train(total_loss):\n",
    "    # train / adjust model parameters according to computed total loss\n",
    "    learning_rate = 0.0000001\n",
    "    return tf.train.GradientDescentOptimizer(learning_rate).minimize(total_loss)\n",
    "\n",
    "\n",
    "def evaluate(sess, X, Y):\n",
    "    # evaluate the resulting trained model\n",
    "    print sess.run(inference([[80., 25.]]))\n",
    "    print sess.run(inference([[65., 25.]]))\n",
    "\n",
    "\n",
    "saver = tf.train.Saver()\n",
    "\n",
    "# launch the graph in a session, setup boilerplate\n",
    "with tf.Session() as sess:\n",
    "    tf.initialize_all_variables().run()\n",
    "    \n",
    "    X, Y = inputs()\n",
    "    \n",
    "    total_loss = loss(X, Y)\n",
    "    train_op = train(total_loss)\n",
    "    \n",
    "    coord = tf.train.Coordinator()\n",
    "    threads = tf.train.start_queue_runners(sess=sess, coord=coord)\n",
    "    \n",
    "    initial_step = 0 \n",
    "    \n",
    "    # verify if we don't have a checkpoint saved already\n",
    "    #ckpt = tf.train.get_checkpoint_state(os.path.dirname(\".\"))\n",
    "    #if ckpt and ckpt.model_checkpoint_path:\n",
    "    #    #Restores from checkpoint\n",
    "    #    saver.restore(sess, ckpt.model_checkpoint_path)\n",
    "    #    initial_step = int(ckpt.model_checkpoint_path.rsplit('-', 1)[1])\n",
    "        \n",
    "    training_steps = 1000\n",
    "    for step in range(initial_step, training_steps):\n",
    "        sess.run([train_op])\n",
    "        \n",
    "        if step % 1000 == 0:\n",
    "            saver.save(sess, 'my-model', global_step=step)\n",
    "            \n",
    "        # for debugging and learning purposes, see how the loss gets decremented through training steps.\n",
    "        if step % 100 == 0:\n",
    "            print \"loss: \", sess.run([total_loss])\n",
    "                \n",
    "    evaluate(sess, X, Y)\n",
    "    \n",
    "    saver.save(sess, 'my-model', global_step=training_steps)\n",
    "    \n",
    "    coord.request_stop()\n",
    "    coord.join(threads)\n",
    "    sess.close()"
   ]
  }
 ],
 "metadata": {
  "anaconda-cloud": {},
  "kernelspec": {
   "display_name": "Python [conda env:tensorflow]",
   "language": "python",
   "name": "conda-env-tensorflow-py"
  },
  "language_info": {
   "codemirror_mode": {
    "name": "ipython",
    "version": 2
   },
   "file_extension": ".py",
   "mimetype": "text/x-python",
   "name": "python",
   "nbconvert_exporter": "python",
   "pygments_lexer": "ipython2",
   "version": "2.7.12"
  }
 },
 "nbformat": 4,
 "nbformat_minor": 1
}
